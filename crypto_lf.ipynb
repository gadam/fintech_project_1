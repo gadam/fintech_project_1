{
 "cells": [
  {
   "cell_type": "code",
   "execution_count": 1,
   "id": "e9aa95c4-bbb4-45fc-9e86-4349ddf3ac2e",
   "metadata": {},
   "outputs": [],
   "source": [
    "import cryptocompare\n",
    "\n",
    "# Import data manipulation library\n",
    "import pandas as pd\n",
    "\n",
    "# Import datetime package\n",
    "from datetime import datetime\n",
    "import requests\n",
    "import pandas as pd\n",
    "import matplotlib.pyplot as plt\n",
    "import seaborn as sns\n",
    "import numpy as np\n",
    "import yfinance as yf\n",
    "\n",
    "%matplotlib inline\n"
   ]
  },
  {
   "cell_type": "code",
   "execution_count": null,
   "id": "aac27f06-66bd-4497-a37c-3de426ed62b5",
   "metadata": {},
   "outputs": [
    {
     "name": "stderr",
     "output_type": "stream",
     "text": [
      "Exception in thread Thread-5:\n",
      "Traceback (most recent call last):\n",
      "  File \"C:\\Users\\Lucas\\anaconda3\\lib\\threading.py\", line 973, in _bootstrap_inner\n",
      "    self.run()\n",
      "  File \"C:\\Users\\Lucas\\anaconda3\\lib\\threading.py\", line 910, in run\n",
      "    self._target(*self._args, **self._kwargs)\n",
      "  File \"C:\\Users\\Lucas\\anaconda3\\lib\\site-packages\\multitasking\\__init__.py\", line 104, in _run_via_pool\n",
      "    return callee(*args, **kwargs)\n",
      "  File \"C:\\Users\\Lucas\\anaconda3\\lib\\site-packages\\yfinance\\multi.py\", line 199, in _download_one_threaded\n",
      "    data = _download_one(ticker, start, end, auto_adjust, back_adjust,\n",
      "  File \"C:\\Users\\Lucas\\anaconda3\\lib\\site-packages\\yfinance\\multi.py\", line 213, in _download_one\n",
      "    return Ticker(ticker).history(period=period, interval=interval,\n",
      "  File \"C:\\Users\\Lucas\\anaconda3\\lib\\site-packages\\yfinance\\base.py\", line 154, in history\n",
      "    tz = self._get_ticker_tz(debug_mode, proxy, timeout)\n",
      "  File \"C:\\Users\\Lucas\\anaconda3\\lib\\site-packages\\yfinance\\base.py\", line 338, in _get_ticker_tz\n",
      "    tkr_tz = utils.cache_lookup_tkr_tz(self.ticker)\n",
      "  File \"C:\\Users\\Lucas\\anaconda3\\lib\\site-packages\\yfinance\\utils.py\", line 334, in cache_lookup_tkr_tz\n",
      "    fp = _os.path.join(get_cache_dirpath(), \"tkr-tz.csv\")\n",
      "  File \"C:\\Users\\Lucas\\anaconda3\\lib\\site-packages\\yfinance\\utils.py\", line 325, in get_cache_dirpath\n",
      "    dp = _os.path.join(_ad.user_cache_dir(), \"py-yfinance\")\n",
      "  File \"C:\\Users\\Lucas\\anaconda3\\lib\\site-packages\\appdirs.py\", line 293, in user_cache_dir\n",
      "    path = os.path.normpath(_get_win_folder(\"CSIDL_LOCAL_APPDATA\"))\n",
      "  File \"C:\\Users\\Lucas\\anaconda3\\lib\\site-packages\\appdirs.py\", line 480, in _get_win_folder_with_pywin32\n",
      "    from win32com.shell import shellcon, shell\n",
      "ImportError: DLL load failed while importing shell: The specified procedure could not be found.\n"
     ]
    }
   ],
   "source": [
    "data = yf.download(\"BTC-USD\" \n",
    "                   , start=\"2018-01-01\", end=\"2022-10-26\")\n"
   ]
  },
  {
   "cell_type": "code",
   "execution_count": null,
   "id": "f64a7ca6-eef4-4b1f-b5a7-034b123f1b3b",
   "metadata": {},
   "outputs": [],
   "source": [
    "data = yf.download(\"BTC-USD, ETH-USD, XRP-USD, BNB-USD, ADA-USD, DOGE-USD, TRX-USD, ENJ-USD, XMR-USD, ZEC-USD, ZEN-USD, MKR-USD, BCH-USD, XEM-USD, XLM-USD, DASH-USD, EOS-USD, NEO-USD, ETC-USD, LSK-USD, XVG-USD\" \n",
    "                   , start=\"2018-01-01\", end=\"2022-10-26\")\n"
   ]
  },
  {
   "cell_type": "code",
   "execution_count": null,
   "id": "5b5190b0-f7c6-47a9-b215-4e1969b2e663",
   "metadata": {},
   "outputs": [],
   "source": [
    "conda uninstall yfinance"
   ]
  },
  {
   "cell_type": "code",
   "execution_count": null,
   "id": "5747aaea-b148-4009-a495-2e5ff54dd4c5",
   "metadata": {},
   "outputs": [],
   "source": [
    "data_df = pd.DataFrame(data)\n",
    "data_df = data_df.drop(columns = ['Adj Close', 'High', 'Low', 'Open', 'Volume'])\n",
    "data_df.tail()"
   ]
  },
  {
   "cell_type": "code",
   "execution_count": null,
   "id": "975dd43f-c0ce-4aaa-9e28-62d59465bbef",
   "metadata": {},
   "outputs": [],
   "source": [
    "data_df.isna().sum()"
   ]
  },
  {
   "cell_type": "code",
   "execution_count": null,
   "id": "60625a24-b762-4cfa-a3f9-222dff825c8d",
   "metadata": {},
   "outputs": [],
   "source": [
    "daily_change = data_df.pct_change()\n",
    "daily_change.tail()"
   ]
  },
  {
   "cell_type": "code",
   "execution_count": null,
   "id": "f9132c9e-d2f0-4260-a800-a2dcd2977160",
   "metadata": {},
   "outputs": [],
   "source": [
    "daily_change.plot(figsize=(20,10))"
   ]
  },
  {
   "cell_type": "code",
   "execution_count": null,
   "id": "d77546ca-4655-4637-9c3a-5d495426ce73",
   "metadata": {},
   "outputs": [],
   "source": [
    "all_time_change = data_df.pct_change(periods=1758).dropna()\n",
    "all_time_change.sort_values(by = '2022-10-25', axis = 1)"
   ]
  },
  {
   "cell_type": "code",
   "execution_count": null,
   "id": "003f7377-2415-4406-ab64-587f3ab1c271",
   "metadata": {},
   "outputs": [],
   "source": [
    "daily_change.describe()"
   ]
  },
  {
   "cell_type": "code",
   "execution_count": null,
   "id": "2e66bab0-e728-44c5-a138-ecf582d7ddc9",
   "metadata": {},
   "outputs": [],
   "source": []
  },
  {
   "cell_type": "code",
   "execution_count": null,
   "id": "0b97329f-88ed-42b8-8787-9dc0826cd10c",
   "metadata": {},
   "outputs": [],
   "source": [
    "average = daily_change.mean()\n",
    "average = average.sort_values()\n",
    "average"
   ]
  },
  {
   "cell_type": "code",
   "execution_count": null,
   "id": "d592dc01-5dc7-4c1e-bb0f-ebaf10ccea9f",
   "metadata": {},
   "outputs": [],
   "source": [
    "std = daily_change.std()\n",
    "std = std.sort_values()\n",
    "std"
   ]
  },
  {
   "cell_type": "code",
   "execution_count": null,
   "id": "299297b7-3cb3-4c3c-ae75-1139918f3ad2",
   "metadata": {},
   "outputs": [],
   "source": [
    "# Calculate cumulative returns of all portfolios\n",
    "cumulative_returns = (1 + daily_change).cumprod()\n",
    "cumulative_returns.head()"
   ]
  },
  {
   "cell_type": "code",
   "execution_count": null,
   "id": "1f508dec-08e1-4951-819f-50a7eb19b09b",
   "metadata": {},
   "outputs": [],
   "source": [
    "# Plot cumulative returns\n",
    "cumulative_returns.plot(figsize=(12,7))"
   ]
  },
  {
   "cell_type": "code",
   "execution_count": null,
   "id": "1275b1fa-9dd7-469e-9180-5de8bc11ce33",
   "metadata": {},
   "outputs": [],
   "source": [
    "# Calculate the correlation\n",
    "correlation = daily_change.corr()\n",
    "# Display correlation matrix\n",
    "plt.figure(figsize = (15,10))\n",
    "sns.heatmap(correlation, vmin=-1, vmax=1, annot=True)"
   ]
  },
  {
   "cell_type": "code",
   "execution_count": null,
   "id": "49d0d999-b73e-423e-9329-deb2fdbc6628",
   "metadata": {},
   "outputs": [],
   "source": [
    "pip install pycaret --user"
   ]
  },
  {
   "cell_type": "code",
   "execution_count": null,
   "id": "754360c6-4a02-42a5-ae6d-0e65589ec92a",
   "metadata": {},
   "outputs": [],
   "source": []
  }
 ],
 "metadata": {
  "kernelspec": {
   "display_name": "Python 3 (ipykernel)",
   "language": "python",
   "name": "python3"
  },
  "language_info": {
   "codemirror_mode": {
    "name": "ipython",
    "version": 3
   },
   "file_extension": ".py",
   "mimetype": "text/x-python",
   "name": "python",
   "nbconvert_exporter": "python",
   "pygments_lexer": "ipython3",
   "version": "3.9.12"
  }
 },
 "nbformat": 4,
 "nbformat_minor": 5
}
